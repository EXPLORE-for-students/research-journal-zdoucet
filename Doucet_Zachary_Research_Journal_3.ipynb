{
 "cells": [
  {
   "cell_type": "markdown",
   "metadata": {},
   "source": [
    "# Research Notebook\n",
    "## Zachary Doucet\n",
    "## Date: 10 March 2025"
   ]
  },
  {
   "cell_type": "markdown",
   "metadata": {},
   "source": [
    "# 1: Experience\n",
    "## Describe at least one research activity you worked on this week. \n",
    "\n",
    "Since the last research journal I have continued working on my code for the metric function g00 for the interior of a dark star and trying to get it to match up with the Schwarzschild solution for outside the dark star.\n",
    "\n",
    "\n",
    "## Motivation:\n",
    "\n",
    "The motivation behind this activity is to be able to determine the wavelength of light from an acreting dark star. Computing this metric function will also allow me to get the potential energy as a function of the radius from the centre of the star and the Z redshift factor. Once combined with my peers individual projects, we will be able to determine the wavelength."
   ]
  },
  {
   "cell_type": "markdown",
   "metadata": {},
   "source": [
    "# 2: What? (What happened?)\n",
    "\n",
    "For this activity, I have already solved for the metric function g00 as per my last research journal. I built on this code and have researched and attempted to implement the Schwarzschild solution [1]. This portion was easy enough as it is simply $1 - \\frac{2GM}{R}$. The difficulty however has come from rescaling my metric function such that these two solution match up at the edge of the star. In the process of trying to rescale my metric function I noticed some errors such as an incorrect value of the gravitational constant G, where I was meant to have this on the order of $10^19$ however I had $10^-19$. Additionally, Dr. Schaffner-Bielich recommended I start at a larger initial radius than the $10^{-7}$. after correcting these error, my differential equation solution diverges. I thus have shifted my focus to trying to get the solution for the metric function to converge (ie exactly what was in my last research journal). \n",
    "\n",
    "Recall that the equations of interest are as follows:\n",
    "\n",
    "$\\frac{d\\nu}{dr} = \\frac{1}{p + \\epsilon} \\frac{dp}{dr}$\n",
    "\n",
    "where $\\frac{dp}{dr}$ is obtained using the TOV solver which was described in my first research journala, p is the pressure, and $\\epsilon$ is the energy density. I integrate this using scipy.integrate.solve_ivp to obtain $\\nu(r)$. From here I compute $g_{00}$ as follows\n",
    "\n",
    "$g_{00}=e^{2\\nu}$\n",
    "\n",
    "finally the schwarzschild solution \n",
    "\n",
    "S = $1 - \\frac{2GM}{R}$\n",
    "\n",
    "Although at the moment my code is rather chaotic as I am in the process of debugging, here is the code I have."
   ]
  },
  {
   "cell_type": "code",
   "execution_count": 1,
   "metadata": {
    "tags": []
   },
   "outputs": [
    {
     "name": "stderr",
     "output_type": "stream",
     "text": [
      "C:\\Users\\socce\\AppData\\Local\\Temp\\ipykernel_12240\\3051892294.py:36: RuntimeWarning: invalid value encountered in scalar power\n",
      "  e = e_0 * (p / e_0)**0.5 + 3 * p # EOS\n"
     ]
    },
    {
     "ename": "IndexError",
     "evalue": "list index out of range",
     "output_type": "error",
     "traceback": [
      "\u001b[1;31m---------------------------------------------------------------------------\u001b[0m",
      "\u001b[1;31mIndexError\u001b[0m                                Traceback (most recent call last)",
      "Cell \u001b[1;32mIn[1], line 58\u001b[0m\n\u001b[0;32m     56\u001b[0m \u001b[38;5;66;03m# Extract the arrays for radius (r), pressure(p), mass (m), and nu (v) from the solution from scipy.integrate.solve_ivp\u001b[39;00m\n\u001b[0;32m     57\u001b[0m r \u001b[38;5;241m=\u001b[39m solution\u001b[38;5;241m.\u001b[39mt\n\u001b[1;32m---> 58\u001b[0m p \u001b[38;5;241m=\u001b[39m \u001b[43msolution\u001b[49m\u001b[38;5;241;43m.\u001b[39;49m\u001b[43my\u001b[49m\u001b[43m[\u001b[49m\u001b[38;5;241;43m0\u001b[39;49m\u001b[43m]\u001b[49m\n\u001b[0;32m     59\u001b[0m m \u001b[38;5;241m=\u001b[39m solution\u001b[38;5;241m.\u001b[39my[\u001b[38;5;241m1\u001b[39m]\n\u001b[0;32m     60\u001b[0m v \u001b[38;5;241m=\u001b[39m solution\u001b[38;5;241m.\u001b[39my[\u001b[38;5;241m2\u001b[39m]\n",
      "\u001b[1;31mIndexError\u001b[0m: list index out of range"
     ]
    }
   ],
   "source": [
    "# Imports\n",
    "import numpy as np\n",
    "import matplotlib.pyplot as plt\n",
    "import scipy as sp\n",
    "import scipy.integrate as integ\n",
    "# - - - - - - - - - - - - - - - - - - - - - - - - - - - - - - - - - - - - - - -\n",
    "\n",
    "# Define constants\n",
    "# Constants\n",
    "m_b = 1 # GeV, boson mass\n",
    "l = 1 # Coupling strength\n",
    "e_0 = l * m_b**4 # GeV^4, initial energy density\n",
    "G = 1.19e19 # GeV, Gravitational constant\n",
    "c = 1 # Speed of light\n",
    "# - - - - - - - - - - - - - - - - - - - - - - - - - - - - - - - - - - - - - - -\n",
    "\n",
    "# Define equations\n",
    "def TOV(r, y):\n",
    "    \"\"\"\n",
    "    Here I have removed the c from the equations as it is 1.\n",
    "    \"\"\"\n",
    "    p, m = y\n",
    "    if p <= 0: # Stop integration if pressure drops below zero\n",
    "        return [0, 0]\n",
    "\n",
    "    e = e_0*(p/e_0)**0.5 + 3*p # EOS\n",
    "    dp_dr = (-G/(r**2))*(e + p)*(4*np.pi*(r**3)*p)*(1 - (2*G*m)/r)**-1\n",
    "    dm_dr = 4*np.pi*(r**2)*e\n",
    "    return [dp_dr, dm_dr]\n",
    "\n",
    "def Glendenning(r, y):\n",
    "    \"\"\"\n",
    "    system of differential equations to pass to the scipy.integrate.solve_ivp\n",
    "    \"\"\"\n",
    "    p, m, v = y # Extract p, m, and v from y\n",
    "    e = e_0 * (p / e_0)**0.5 + 3 * p # EOS\n",
    "    dp_dr, dm_dr = TOV(r, [p, m]) # Extract derivatives from TOV\n",
    "\n",
    "    dv_dr = - (1 / (p + e)) * dp_dr\n",
    "\n",
    "    return [dp_dr, dm_dr, dv_dr] # Return all three derivatives\n",
    "# - - - - - - - - - - - - - - - - - - - - - - - - - - - - - - - - - - - - - - -\n",
    "\n",
    "# Integrate\n",
    "r0 = 1e7 # Initial radius to avoid division by zero\n",
    "v0 = 0 # initial nu value \n",
    "r_max = 1e11 # Maximum radius\n",
    "p0 = 1e-8 # intial pressure\n",
    "m0 = 0 # initial mass\n",
    "y0 = [p0, m0, v0] # vector containing the initial conditions to pass to scipy.integrate.solve_ivp\n",
    "rspan = [r0, r_max] # bounds of integration to pass to scipy.integrate.solve_ivp\n",
    "reval = np.linspace(r0, r_max, 100) # r values to evaluate the integral at in scipy.integrate.solve_ivp\n",
    "\n",
    "solution = integ.solve_ivp(Glendenning, rspan, y0, t_eval = reval) # solve the system of differential equations\n",
    "\n",
    "# Extract the arrays for radius (r), pressure(p), mass (m), and nu (v) from the solution from scipy.integrate.solve_ivp\n",
    "r = solution.t\n",
    "p = solution.y[0]\n",
    "m = solution.y[1]\n",
    "v = solution.y[2]\n",
    "# - - - - - - - - - - - - - - - - - - - - - - - - - - - - - - - - - - - - - - -\n",
    "\n",
    "# compute the metric function\n",
    "g00 = np.exp(2*v)\n",
    "\n",
    "# Test values to compute the Schwarzschild radius over\n",
    "M = 2e57 # 2 solar masses? correct this later\n",
    "R = r_max # maximum radius of the dark star \n",
    "\n",
    "r_space = np.linspace(r[-1], 2*r_max, 100) # list of r values outside the dark star to compute the Schwarzschild solution at.\n",
    "schwarzschild = 1 - ((2*G*M)/(r_space)) # compute the Schwarzschild solution\n",
    "\n",
    "C = schwarzschild[0] / g00[-1] # coefficient to make the metric function g00 match the Schwarzschild at radius r = R\n",
    "\n",
    "g00_corrected = C*g00 # apply the coefficient to the metric function.\n",
    "\"\"\"\n",
    "note that this g00 corrected worked in matching up the values at r=R which was observed graphically, however I am unable to supply this\n",
    "graph as my code no longer runs.\n",
    "\"\"\"\n",
    "# - - - - - - - - - - - - - - - - - - - - - - - - - - - - - - - - - - - - - - -\n",
    "\n",
    "# Potential energy and redshift factor\n",
    "m = 1 # test mass\n",
    "GM_r = 0.5*(1 - g00) # intermediate step for calculations\n",
    "\n",
    "U = m*GM_r # potential energy (for when the metric function is correctly solved for)\n",
    "\n",
    "Z = (1/g00) - 1 # redshift factor (for when the metric function is correctly solved for)\n",
    "# - - - - - - - - - - - - - - - - - - - - - - - - - - - - - - - - - - - - - - -\n",
    "\n",
    "# Plot \n",
    "plt.plot(r , g00, label=r\"$g_{00}$\")\n",
    "plt.title(r\"$g_{00} \\ Vs. \\ radius$\", fontsize=14)\n",
    "plt.xlabel(r\"radius $(GeV^-1)$\", fontsize=14)\n",
    "plt.ylabel(r\"$g_{00} (dimensionless)$\", fontsize=14)\n",
    "plt.grid()\n",
    "plt.legend(fontsize=14)\n",
    "plt.show()\n",
    "\n",
    "plt.plot(r, U, label=\"U(r)\")\n",
    "plt.xlabel(r\"radius $(GeV^-1)$\", fontsize=14)\n",
    "plt.ylabel(\"U(r) GeV\", fontsize=14)\n",
    "plt.title(\"Potential Energy vs Radius\")\n",
    "plt.legend(fontsize=14)\n",
    "plt.grid()\n",
    "plt.show()\n",
    "\n",
    "plt.plot(r, Z, label=\"Z(r)\")\n",
    "plt.xlabel(r\"radius $(GeV^{-1})$\", fontsize=14)\n",
    "plt.ylabel(\"Z(r)\", fontsize=14)\n",
    "plt.title(\"Z factor vs Radius\")\n",
    "plt.legend(fontsize=14)\n",
    "plt.grid()\n",
    "plt.show()\n",
    "\n",
    "plt.plot(r, g00, label=r\"$g_{00}$\")\n",
    "plt.plot(r_space, schwarzschild, label=\"schwarzschild solution\")\n",
    "plt.title(r\"$g_{00} \\ Vs. \\ radius$\", fontsize=14)\n",
    "plt.xlabel(r\"radius $(GeV^-1)$\", fontsize=14)\n",
    "plt.ylabel(r\"$g_{00} (dimensionless)$\", fontsize=14)\n",
    "plt.xlim(r0, r[-1])\n",
    "plt.grid()\n",
    "plt.legend(fontsize=14)\n",
    "plt.show()\n",
    "# - - - - - - - - - - - - - - - - - - - - - - - - - - - - - - - - - - - - - - -"
   ]
  },
  {
   "cell_type": "markdown",
   "metadata": {},
   "source": [
    "# 3: So what? (What does it mean?)\n",
    "## Describe your results\n",
    "\n",
    "Although I do not believe this has been the most successful couple of weeks since my last journal, as I did not complete the metric function, redshift factor, and potential energy calculations, I think I am close to the solution. I have some ideas on how to fix the code, which I will describe in the next section. Despite the setbacks, I am still pleased with my progress because I now have a much clearer understanding of the physical processes involved. One of the main points of confusion was whether the Schwarzschild solution applies inside the star, and I now realize that it does not. This is precisely why we need the metric function to describe the interior solution properly. Additionally, I have made solid progress on this goal, and once I correct the code, I should be able to move forward. At that point, I can combine my results with those of my peers to finalize our project. My peers are working on determining the temperature, accretion rate, and mass-radius curves for the two-fluid case, which includes both ordinary matter and dark matter. The metric function I am developing is a necessary component for one of my peers' calculations, and the redshift factor will allow us to properly account for gravitational redshift. These calculations are essential because, once completed and combined, they will enable us to determine the wavelength a dark star would emit due to accretion. While this has been a challenging process, I feel that I am making steady progress toward the final results."
   ]
  },
  {
   "cell_type": "markdown",
   "metadata": {},
   "source": [
    "# 4. Now what? (What's next?)\n",
    "## Plan for the next week\n",
    "\n",
    "This week I did not achieve my intended goal of completing the metric function, potential energy, and z factor calculations. I think from here I need to take a new, more rigorous approach and put in proper values for the mass and the radii and be more consistent in these numbers. A few other things I intend to implement is to remove the specified points to evaluate the radius, allowing solve_ivp to use adaptive stepsize. Additionally, I will implement a terminate condition for one then pressure equals zero (defining the edge of the dark star) and switch from RK45 to DOP853 method. Additionally next week me and the other students in my group plan to meet this weekend to begin discussing how we are going to do our presentation."
   ]
  },
  {
   "cell_type": "markdown",
   "metadata": {},
   "source": [
    "# 5. Bibliography\n"
   ]
  },
  {
   "cell_type": "markdown",
   "metadata": {
    "tags": []
   },
   "source": [
    "[1] N. K. Glendenning, Compact Stars: Nuclear Physics, Particle Physics, and General Relativity. Springer, 1997."
   ]
  }
 ],
 "metadata": {
  "kernelspec": {
   "display_name": "Python 3 (ipykernel)",
   "language": "python",
   "name": "python3"
  },
  "language_info": {
   "codemirror_mode": {
    "name": "ipython",
    "version": 3
   },
   "file_extension": ".py",
   "mimetype": "text/x-python",
   "name": "python",
   "nbconvert_exporter": "python",
   "pygments_lexer": "ipython3",
   "version": "3.11.4"
  }
 },
 "nbformat": 4,
 "nbformat_minor": 4
}
